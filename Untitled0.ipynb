{
  "nbformat": 4,
  "nbformat_minor": 0,
  "metadata": {
    "colab": {
      "name": "Untitled0.ipynb",
      "provenance": []
    },
    "kernelspec": {
      "name": "python3",
      "display_name": "Python 3"
    },
    "language_info": {
      "name": "python"
    }
  },
  "cells": [
    {
      "cell_type": "code",
      "execution_count": 1,
      "metadata": {
        "id": "RM0ppBhEtn0R"
      },
      "outputs": [],
      "source": [
        "import numpy as np\n",
        "import pandas as pd\n",
        "import scipy.stats as stats"
      ]
    },
    {
      "cell_type": "markdown",
      "source": [
        "step1: import libraries"
      ],
      "metadata": {
        "id": "8a7T4rDSvJRO"
      }
    },
    {
      "cell_type": "markdown",
      "source": [
        "step2: Creat an array  of values\n"
      ],
      "metadata": {
        "id": "o9hDoIDZulvI"
      }
    },
    {
      "cell_type": "code",
      "source": [
        "data = np.array([6,7,7,12,13,13,15,16,19,22])"
      ],
      "metadata": {
        "id": "-X6ePmvBuNNH"
      },
      "execution_count": 2,
      "outputs": []
    },
    {
      "cell_type": "markdown",
      "source": [
        "step3: Calculate the z-scores for each value in the array."
      ],
      "metadata": {
        "id": "nI-tA7y8uyik"
      }
    },
    {
      "cell_type": "code",
      "source": [
        "stats.zscore(data)"
      ],
      "metadata": {
        "colab": {
          "base_uri": "https://localhost:8080/"
        },
        "id": "g0JDFbNUucGe",
        "outputId": "879f1ba7-540d-471c-9b39-a134e72e2958"
      },
      "execution_count": 3,
      "outputs": [
        {
          "output_type": "execute_result",
          "data": {
            "text/plain": [
              "array([-1.39443338, -1.19522861, -1.19522861, -0.19920477,  0.        ,\n",
              "        0.        ,  0.39840954,  0.5976143 ,  1.19522861,  1.79284291])"
            ]
          },
          "metadata": {},
          "execution_count": 3
        }
      ]
    }
  ]
}